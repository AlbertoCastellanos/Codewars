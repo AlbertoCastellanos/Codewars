{
 "cells": [
  {
   "cell_type": "markdown",
   "metadata": {},
   "source": [
    "# 6 kyu\n",
    "# The Office V - Find a Chair "
   ]
  },
  {
   "cell_type": "markdown",
   "metadata": {},
   "source": [
    "So you've found a meeting room - phew! You arrive there ready to present, and find that someone has taken one or more of the chairs!! You need to find some quick.... check all the other meeting rooms to see if all of the chairs are in use.\n",
    "\n",
    "Your meeting room can take up to 8 chairs. (need) will tell you how many have been taken. You need to find that many.\n",
    "\n",
    "Find the spare chairs from the array of meeting rooms. Each meeting room array will have the number of occupants as a string. Each occupant is represented by 'X'. The room array will also have an integer telling you how many chairs there are in the room.\n",
    "\n",
    "You should return an array of integers that shows how many chairs you take from each room in order, up until you have the required amount.\n",
    "\n",
    "example: [['XXX', 3], ['XXXXX', 6], ['XXXXXX', 9], ['XXX',2]] when you need 4 chairs:\n",
    "\n",
    "result -- > [0, 1, 3] (no chairs free in room 0, take 1 from room 1, take 3 from room 2. No need to consider room 4 as you have your 4 chairs already.\n",
    "\n",
    "If you need no chairs, return 'Game On'. If there aren't enough spare chairs available, return 'Not enough!'\n",
    "\n",
    "More in this series:\n",
    "\n",
    "The Office I - Outed\n",
    "The Office II - Boredeom Score\n",
    "The Office III - Broken Photocopier\n",
    "The Office IV - Find a Meeting Room"
   ]
  },
  {
   "cell_type": "code",
   "execution_count": 1,
   "metadata": {},
   "outputs": [],
   "source": [
    "def meeting(rooms, number):\n",
    "    available=[]\n",
    "    for e in rooms:\n",
    "        available.append((e[1]-(len(e[0]))))\n",
    "    remaining=number\n",
    "    taken=[]\n",
    "    for e in available:\n",
    "        if e<=0:\n",
    "            taken.append(0)\n",
    "        elif e < remaining:\n",
    "            taken.append(e)\n",
    "            remaining-=e\n",
    "        elif e >= remaining:\n",
    "            taken.append(remaining)\n",
    "            remaining=0\n",
    "            break\n",
    "    \n",
    "    if number==0:\n",
    "        return \"Game On\" \n",
    "    elif number>0 and remaining>0:\n",
    "        return \"Not enough!\" \n",
    "    else:   \n",
    "        return taken"
   ]
  },
  {
   "cell_type": "code",
   "execution_count": 2,
   "metadata": {},
   "outputs": [
    {
     "name": "stdout",
     "output_type": "stream",
     "text": [
      "[0, 1, 3]\n",
      "[0, 0, 1, 2, 2]\n",
      "Game On\n",
      "Not enough!\n",
      "[0, 2]\n"
     ]
    }
   ],
   "source": [
    "print(meeting([[\"XXX\", 3], [\"XXXXX\", 6], [\"XXXXXX\", 9]], 4))#, [0, 1, 3]\n",
    "print(meeting([[\"XXX\", 1], [\"XXXXXX\", 6], [\"X\", 2], [\"XXXXXX\", 8], [\"X\", 3], [\"XXX\", 1]], 5))#, [0, 0, 1, 2, 2]\n",
    "print(meeting([[\"XX\", 2], [\"XXXX\", 6], [\"XXXXX\", 4]], 0))#, \"Game On\"\n",
    "print(meeting([[\"XX\", 2], [\"XXXX\", 6], [\"XXXXX\", 4]], 8)),#, \"Not enough!\"\n",
    "print(meeting([[\"XX\", 2], [\"XXXX\", 6], [\"XXXXX\", 4]], 2))#, [0, 2]"
   ]
  }
 ],
 "metadata": {
  "kernelspec": {
   "display_name": "Python 3",
   "language": "python",
   "name": "python3"
  },
  "language_info": {
   "codemirror_mode": {
    "name": "ipython",
    "version": 3
   },
   "file_extension": ".py",
   "mimetype": "text/x-python",
   "name": "python",
   "nbconvert_exporter": "python",
   "pygments_lexer": "ipython3",
   "version": "3.6.6"
  }
 },
 "nbformat": 4,
 "nbformat_minor": 2
}
